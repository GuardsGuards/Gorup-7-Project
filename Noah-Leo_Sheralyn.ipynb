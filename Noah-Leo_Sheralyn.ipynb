{
 "cells": [
  {
   "cell_type": "code",
   "execution_count": 118,
   "metadata": {},
   "outputs": [],
   "source": [
    "import pandas as pd\n",
    "import matplotlib.pyplot as plt\n",
    "import datetime as dt"
   ]
  },
  {
   "cell_type": "code",
   "execution_count": 168,
   "metadata": {},
   "outputs": [
    {
     "name": "stdout",
     "output_type": "stream",
     "text": [
      "           Date        Close  MIN.YEAR    Year  New.Year        Min  \\\n",
      "0      6/6/2014     4.757500  6/6/2014  2014.0  6/6/2014   4.197500   \n",
      "1      6/9/2014     4.762500  6/6/2014  2015.0  1/2/2015   4.785000   \n",
      "2     6/10/2014     4.787500  6/6/2014  2016.0  1/4/2016   6.305000   \n",
      "3     6/11/2014     4.850000  6/6/2014  2017.0  1/3/2017  23.872499   \n",
      "4     6/12/2014     4.880000  6/6/2014  2018.0  1/2/2018  31.770000   \n",
      "...         ...          ...       ...     ...       ...        ...   \n",
      "2513  5/31/2024  1096.329956  1/2/2024     NaN       NaN        NaN   \n",
      "2514   6/3/2024  1150.000000  1/2/2024     NaN       NaN        NaN   \n",
      "2515   6/4/2024  1164.369995  1/2/2024     NaN       NaN        NaN   \n",
      "2516   6/5/2024  1224.400024  1/2/2024     NaN       NaN        NaN   \n",
      "2517   6/6/2024  1209.979980  1/2/2024     NaN       NaN        NaN   \n",
      "\n",
      "        Min.Date        Max    Max.Date  New.Year.1  \n",
      "0     10/13/2014   5.285000   12/3/2014         NaN  \n",
      "1      6/19/2014   8.437500   12/4/2015         NaN  \n",
      "2       2/8/2016  29.330000  12/27/2016         NaN  \n",
      "3      4/13/2017  54.240002  11/24/2017         NaN  \n",
      "4     12/24/2018  72.339996   10/1/2018         NaN  \n",
      "...          ...        ...         ...         ...  \n",
      "2513         NaN        NaN         NaN         NaN  \n",
      "2514         NaN        NaN         NaN         NaN  \n",
      "2515         NaN        NaN         NaN         NaN  \n",
      "2516         NaN        NaN         NaN         NaN  \n",
      "2517         NaN        NaN         NaN         NaN  \n",
      "\n",
      "[2518 rows x 10 columns]\n"
     ]
    }
   ],
   "source": [
    "NVDA = pd.read_csv(r\"C:\\Users\\npwol\\Downloads\\Project 1\\NVDA.csv\")\n",
    "print(NVDA)"
   ]
  },
  {
   "cell_type": "code",
   "execution_count": 120,
   "metadata": {},
   "outputs": [
    {
     "name": "stdout",
     "output_type": "stream",
     "text": [
      "<class 'pandas.core.frame.DataFrame'>\n",
      "RangeIndex: 2518 entries, 0 to 2517\n",
      "Data columns (total 10 columns):\n",
      " #   Column      Non-Null Count  Dtype  \n",
      "---  ------      --------------  -----  \n",
      " 0   Date        2518 non-null   object \n",
      " 1   Close       2518 non-null   float64\n",
      " 2   MIN.YEAR    2518 non-null   object \n",
      " 3   Year        11 non-null     float64\n",
      " 4   New.Year    11 non-null     object \n",
      " 5   Min         11 non-null     float64\n",
      " 6   Min.Date    11 non-null     object \n",
      " 7   Max         11 non-null     float64\n",
      " 8   Max.Date    11 non-null     object \n",
      " 9   New.Year.1  0 non-null      float64\n",
      "dtypes: float64(5), object(5)\n",
      "memory usage: 196.8+ KB\n"
     ]
    }
   ],
   "source": [
    "NVDA.info()"
   ]
  },
  {
   "cell_type": "code",
   "execution_count": 143,
   "metadata": {},
   "outputs": [
    {
     "name": "stdout",
     "output_type": "stream",
     "text": [
      "0       4.197500\n",
      "1       4.785000\n",
      "2       6.305000\n",
      "3      23.872499\n",
      "4      31.770000\n",
      "5      31.997499\n",
      "6      49.099998\n",
      "7     115.932503\n",
      "8     112.269997\n",
      "9     142.649994\n",
      "10    475.690002\n",
      "Name: Min, dtype: float64\n"
     ]
    }
   ],
   "source": [
    "df_Min = NVDA['Min']\n",
    "\n",
    "print(df_Min.head(11))"
   ]
  },
  {
   "cell_type": "code",
   "execution_count": 166,
   "metadata": {},
   "outputs": [
    {
     "name": "stdout",
     "output_type": "stream",
     "text": [
      "                        Min\n",
      "DateRE     Close           \n",
      "2014-06-06 4.757500       1\n",
      "2014-06-09 4.762500       1\n",
      "2014-06-10 4.787500       1\n",
      "2014-06-11 4.850000       1\n",
      "2014-06-12 4.880000       1\n",
      "...                     ...\n",
      "2024-05-31 1096.329956    0\n",
      "2024-06-03 1150.000000    0\n",
      "2024-06-04 1164.369995    0\n",
      "2024-06-05 1224.400024    0\n",
      "2024-06-06 1209.979980    0\n",
      "\n",
      "[2518 rows x 1 columns]\n"
     ]
    }
   ],
   "source": [
    "NVDA['DateRE'] = pd.to_datetime(NVDA['Date'])\n",
    "NVDA['YearRE'] = NVDA['DateRE'].dt.year\n",
    "\n",
    "df_Min = NVDA['Min']\n",
    "df_Close = NVDA[['Close','DateRE']]\n",
    "\n",
    "df_Com = pd.concat([df_Min,df_Close],axis=1)\n",
    "\n",
    "#occurrences = df_Com.loc[(df_Com['Min']).isin(df_Com['Close'])]\n",
    "#print(occurrences)\n",
    "\n",
    "grouped = df_Com.groupby(['DateRE','Close']).count()\n",
    "print(grouped)\n",
    "\n",
    "df_Com[Bin] = if 'Close' == 'Min'\n",
    "\n",
    "# Filtering the rows where 'Close' matches 'Min' for each group\n",
    "#occurrences = grouped[grouped['Close'].isin(grouped['Min'])]\n",
    "#print(occurrences)\n",
    "\n",
    "\n",
    "#df_Min = NVDA['Min']\n",
    "#df_Close = NVDA['Close']\n",
    "\n",
    "#occurrences = df_Min.loc[df_Min['Min'].isin(df_Close['Close'])]\n",
    "#print(occurrences)\n",
    "\n",
    "\n",
    "#Test = NVDA.loc(NVDA['Close'] == 4.197500)\n",
    "#print(Test)"
   ]
  },
  {
   "cell_type": "code",
   "execution_count": null,
   "metadata": {},
   "outputs": [
    {
     "ename": "KeyError",
     "evalue": "'Min'",
     "output_type": "error",
     "traceback": [
      "\u001b[1;31m---------------------------------------------------------------------------\u001b[0m",
      "\u001b[1;31mKeyError\u001b[0m                                  Traceback (most recent call last)",
      "Cell \u001b[1;32mIn[101], line 3\u001b[0m\n\u001b[0;32m      1\u001b[0m NVDA[\u001b[38;5;124m'\u001b[39m\u001b[38;5;124mDateRE\u001b[39m\u001b[38;5;124m'\u001b[39m] \u001b[38;5;241m=\u001b[39m pd\u001b[38;5;241m.\u001b[39mto_datetime(NVDA[\u001b[38;5;124m'\u001b[39m\u001b[38;5;124mDate\u001b[39m\u001b[38;5;124m'\u001b[39m])\n\u001b[1;32m----> 3\u001b[0m NVDA_Group \u001b[38;5;241m=\u001b[39m df_Min\u001b[38;5;241m.\u001b[39mgroupby(\u001b[43mdf_Min\u001b[49m\u001b[43m[\u001b[49m\u001b[38;5;124;43m'\u001b[39;49m\u001b[38;5;124;43mMin\u001b[39;49m\u001b[38;5;124;43m'\u001b[39;49m\u001b[43m]\u001b[49m)\u001b[38;5;241m.\u001b[39mcount()\n\u001b[0;32m      7\u001b[0m NVDA[\u001b[38;5;124m'\u001b[39m\u001b[38;5;124mYearRE\u001b[39m\u001b[38;5;124m'\u001b[39m] \u001b[38;5;241m=\u001b[39m NVDA[\u001b[38;5;124m'\u001b[39m\u001b[38;5;124mDateRE\u001b[39m\u001b[38;5;124m'\u001b[39m]\u001b[38;5;241m.\u001b[39mdt\u001b[38;5;241m.\u001b[39myear\n\u001b[0;32m      8\u001b[0m \u001b[38;5;28mprint\u001b[39m(NVDA[[\u001b[38;5;124m'\u001b[39m\u001b[38;5;124mDateRE\u001b[39m\u001b[38;5;124m'\u001b[39m,\u001b[38;5;124m'\u001b[39m\u001b[38;5;124mYearRE\u001b[39m\u001b[38;5;124m'\u001b[39m,\u001b[38;5;124m'\u001b[39m\u001b[38;5;124mClose\u001b[39m\u001b[38;5;124m'\u001b[39m]])\n",
      "File \u001b[1;32mc:\\Users\\npwol\\anaconda3\\envs\\dev\\lib\\site-packages\\pandas\\core\\series.py:1112\u001b[0m, in \u001b[0;36mSeries.__getitem__\u001b[1;34m(self, key)\u001b[0m\n\u001b[0;32m   1109\u001b[0m     \u001b[38;5;28;01mreturn\u001b[39;00m \u001b[38;5;28mself\u001b[39m\u001b[38;5;241m.\u001b[39m_values[key]\n\u001b[0;32m   1111\u001b[0m \u001b[38;5;28;01melif\u001b[39;00m key_is_scalar:\n\u001b[1;32m-> 1112\u001b[0m     \u001b[38;5;28;01mreturn\u001b[39;00m \u001b[38;5;28;43mself\u001b[39;49m\u001b[38;5;241;43m.\u001b[39;49m\u001b[43m_get_value\u001b[49m\u001b[43m(\u001b[49m\u001b[43mkey\u001b[49m\u001b[43m)\u001b[49m\n\u001b[0;32m   1114\u001b[0m \u001b[38;5;66;03m# Convert generator to list before going through hashable part\u001b[39;00m\n\u001b[0;32m   1115\u001b[0m \u001b[38;5;66;03m# (We will iterate through the generator there to check for slices)\u001b[39;00m\n\u001b[0;32m   1116\u001b[0m \u001b[38;5;28;01mif\u001b[39;00m is_iterator(key):\n",
      "File \u001b[1;32mc:\\Users\\npwol\\anaconda3\\envs\\dev\\lib\\site-packages\\pandas\\core\\series.py:1228\u001b[0m, in \u001b[0;36mSeries._get_value\u001b[1;34m(self, label, takeable)\u001b[0m\n\u001b[0;32m   1225\u001b[0m     \u001b[38;5;28;01mreturn\u001b[39;00m \u001b[38;5;28mself\u001b[39m\u001b[38;5;241m.\u001b[39m_values[label]\n\u001b[0;32m   1227\u001b[0m \u001b[38;5;66;03m# Similar to Index.get_value, but we do not fall back to positional\u001b[39;00m\n\u001b[1;32m-> 1228\u001b[0m loc \u001b[38;5;241m=\u001b[39m \u001b[38;5;28;43mself\u001b[39;49m\u001b[38;5;241;43m.\u001b[39;49m\u001b[43mindex\u001b[49m\u001b[38;5;241;43m.\u001b[39;49m\u001b[43mget_loc\u001b[49m\u001b[43m(\u001b[49m\u001b[43mlabel\u001b[49m\u001b[43m)\u001b[49m\n\u001b[0;32m   1230\u001b[0m \u001b[38;5;28;01mif\u001b[39;00m is_integer(loc):\n\u001b[0;32m   1231\u001b[0m     \u001b[38;5;28;01mreturn\u001b[39;00m \u001b[38;5;28mself\u001b[39m\u001b[38;5;241m.\u001b[39m_values[loc]\n",
      "File \u001b[1;32mc:\\Users\\npwol\\anaconda3\\envs\\dev\\lib\\site-packages\\pandas\\core\\indexes\\range.py:417\u001b[0m, in \u001b[0;36mRangeIndex.get_loc\u001b[1;34m(self, key)\u001b[0m\n\u001b[0;32m    415\u001b[0m         \u001b[38;5;28;01mraise\u001b[39;00m \u001b[38;5;167;01mKeyError\u001b[39;00m(key) \u001b[38;5;28;01mfrom\u001b[39;00m \u001b[38;5;21;01merr\u001b[39;00m\n\u001b[0;32m    416\u001b[0m \u001b[38;5;28;01mif\u001b[39;00m \u001b[38;5;28misinstance\u001b[39m(key, Hashable):\n\u001b[1;32m--> 417\u001b[0m     \u001b[38;5;28;01mraise\u001b[39;00m \u001b[38;5;167;01mKeyError\u001b[39;00m(key)\n\u001b[0;32m    418\u001b[0m \u001b[38;5;28mself\u001b[39m\u001b[38;5;241m.\u001b[39m_check_indexing_error(key)\n\u001b[0;32m    419\u001b[0m \u001b[38;5;28;01mraise\u001b[39;00m \u001b[38;5;167;01mKeyError\u001b[39;00m(key)\n",
      "\u001b[1;31mKeyError\u001b[0m: 'Min'"
     ]
    }
   ],
   "source": [
    "NVDA['DateRE'] = pd.to_datetime(NVDA['Date'])\n",
    "\n",
    "\n",
    "\n",
    "\n",
    "\n",
    "NVDA['YearRE'] = NVDA['DateRE'].dt.year\n",
    "print(NVDA[['DateRE','YearRE','Close']])\n",
    "\n",
    "print(NVDA[['Min','YearRE']])\n",
    "\n",
    "#NVDA_Group = NVDA.groupby(NVDA['Min']).count()\n",
    "#print(NVDA_Group['Min','DateRE'])"
   ]
  },
  {
   "cell_type": "code",
   "execution_count": null,
   "metadata": {},
   "outputs": [
    {
     "name": "stdout",
     "output_type": "stream",
     "text": [
      "            Min\n",
      "0      4.197500\n",
      "1      4.785000\n",
      "2      6.305000\n",
      "3     23.872499\n",
      "4     31.770000\n",
      "...         ...\n",
      "2513        NaN\n",
      "2514        NaN\n",
      "2515        NaN\n",
      "2516        NaN\n",
      "2517        NaN\n",
      "\n",
      "[2518 rows x 1 columns]\n"
     ]
    }
   ],
   "source": [
    "print(NVDA[['Min']])"
   ]
  },
  {
   "cell_type": "code",
   "execution_count": null,
   "metadata": {},
   "outputs": [],
   "source": [
    "NVDA = pd.read_csv(r\"C:\\Users\\npwol\\Downloads\\Project 1\\NVDA.csv\")\n",
    "\n",
    "\n",
    "NVDA['Min.Date'] = pd.to_datetime(NVDA.iloc[:, 6], format='%m/%d/%Y')\n",
    "NVDA['Max.Date'] = pd.to_datetime(NVDA.iloc[:, 8], format='%m/%d/%Y')\n",
    "NVDA['New.Year'] = pd.to_datetime(NVDA.iloc[:, 4], format='%m/%d/%Y')\n",
    "\n"
   ]
  },
  {
   "cell_type": "code",
   "execution_count": null,
   "metadata": {},
   "outputs": [
    {
     "ename": "SyntaxError",
     "evalue": "invalid syntax (2291493716.py, line 1)",
     "output_type": "error",
     "traceback": [
      "\u001b[1;36m  Cell \u001b[1;32mIn[77], line 1\u001b[1;36m\u001b[0m\n\u001b[1;33m    if min [Min] occurs in [Year] (being the same row [Min] and [Year]) then return date from [Date] at which minimum value from [Min] occurs\u001b[0m\n\u001b[1;37m                 ^\u001b[0m\n\u001b[1;31mSyntaxError\u001b[0m\u001b[1;31m:\u001b[0m invalid syntax\n"
     ]
    }
   ],
   "source": [
    "\n",
    "if min [Min] occurs in [Year] (being the same row [Min] and [Year]) then return date from [Date] at which minimum value from [Min] occurs \n"
   ]
  },
  {
   "cell_type": "code",
   "execution_count": null,
   "metadata": {},
   "outputs": [],
   "source": [
    "NVDA['Min.Date'] = pd.to_datetime(NVDA.iloc[:, 6], format='%m/%d/%Y')\n",
    "NVDA['Max.Date'] = pd.to_datetime(NVDA.iloc[:, 8], format='%m/%d/%Y')\n",
    "NVDA['New.Year'] = pd.to_datetime(NVDA.iloc[:, 4], format='%m/%d/%Y')\n",
    "\n",
    "plt.plot(NVDA.iloc[:, 0], NVDA.iloc[:, 1], color='blue', linestyle='-')\n",
    "\n",
    "NVDA['Min.Date'] = pd.to_datetime(NVDA['Min.Date'], errors='coerce')\n",
    "NVDA['Max.Date'] = pd.to_datetime(NVDA['Max.Date'], errors='coerce')\n",
    "NVDA['New.Year'] = pd.to_datetime(NVDA['New.Year'], errors='coerce')\n",
    "\n",
    "\n",
    "# Adding vertical lines based on 'Min.Date' and 'Max.Date'\n",
    "for index, row in NVDA.iterrows():\n",
    "     if index > 0:\n",
    "        plt.axvline(x=row['Min.Date'], color='red', linestyle='--', alpha=0.6)  \n",
    "        plt.axvline(x=row['Max.Date'], color='green', linestyle='--', alpha=0.6)  \n",
    "        plt.axvline(x=row['New.Year'], color='black', linestyle='-', alpha=0.8) \n",
    "\n",
    "plt.xlabel(\"Date\")\n",
    "plt.ylabel(\"Value\")\n",
    "\n",
    "plt.tight_layout()\n",
    "\n",
    "plt.show()\n"
   ]
  },
  {
   "cell_type": "code",
   "execution_count": null,
   "metadata": {},
   "outputs": [
    {
     "name": "stdout",
     "output_type": "stream",
     "text": [
      "For Date 2018-12-24 00:00:00:\n",
      "Min.Date is after Max.Date by 84 days.\n",
      "Value at Min.Date: 31.77\n",
      "Value at Max.Date: 72.339996\n",
      "Difference in Value: -40.569996\n",
      "For Date 2022-10-14 00:00:00:\n",
      "Min.Date is after Max.Date by 284 days.\n",
      "Value at Min.Date: 112.269997\n",
      "Value at Max.Date: 301.209991\n",
      "Difference in Value: -188.939994\n"
     ]
    }
   ],
   "source": [
    "import pandas as pd\n",
    "\n",
    "# NVDA is your DataFrame loaded from pd.read_csv()\n",
    "NVDA = pd.read_csv(r\"C:\\Users\\npwol\\Downloads\\Project 1\\NVDA.csv\")\n",
    "\n",
    "# Convert 'Date', 'Min.Date', 'Max.Date', and 'New.Year' columns to datetime objects\n",
    "NVDA['Date'] = pd.to_datetime(NVDA.iloc[:, 0], format='%m/%d/%Y')\n",
    "NVDA['Min.Date'] = pd.to_datetime(NVDA.iloc[:, 6], format='%m/%d/%Y')\n",
    "NVDA['Max.Date'] = pd.to_datetime(NVDA.iloc[:, 8], format='%m/%d/%Y')\n",
    "\n",
    "for index, row in NVDA.iterrows():\n",
    "    min_date = row.iloc[6]  # Accessing 'Min.Date' using row.iloc[6]\n",
    "    max_date = row.iloc[8]  # Accessing 'Max.Date' using row.iloc[8]\n",
    "    \n",
    "    # Check if Min.Date and Max.Date belong to the same year\n",
    "    if min_date.year == max_date.year:\n",
    "        # Check if Min.Date falls after Max.Date\n",
    "        if min_date > max_date:\n",
    "            # Calculate the number of days between Min.Date and Max.Date\n",
    "            days_difference = (min_date - max_date).days\n",
    "            print(f\"For Date {row.iloc[6]}:\")\n",
    "            print(f\"Min.Date is after Max.Date by {days_difference} days.\")\n",
    "            \n",
    "            # Get the index of Min.Date and Max.Date\n",
    "            min_date_index = NVDA[NVDA['Date'] == min_date].index[0]\n",
    "            max_date_index = NVDA[NVDA['Date'] == max_date].index[0]\n",
    "            \n",
    "            # Get the value at Min.Date and Max.Date\n",
    "            value_at_min_date = NVDA.iloc[min_date_index, 1]  # Accessing column NVDA.iloc[:, 1] at min_date_index\n",
    "            value_at_max_date = NVDA.iloc[max_date_index, 1]  # Accessing column NVDA.iloc[:, 1] at max_date_index\n",
    "            \n",
    "            # Calculate the difference in value\n",
    "            value_difference = value_at_min_date - value_at_max_date\n",
    "            print(f\"Value at Min.Date: {value_at_min_date}\")\n",
    "            print(f\"Value at Max.Date: {value_at_max_date}\")\n",
    "            print(f\"Difference in Value: {value_difference}\")"
   ]
  },
  {
   "cell_type": "code",
   "execution_count": null,
   "metadata": {},
   "outputs": [],
   "source": [
    "import pandas as pd\n",
    "import matplotlib.pyplot as plt"
   ]
  },
  {
   "cell_type": "code",
   "execution_count": null,
   "metadata": {},
   "outputs": [
    {
     "name": "stderr",
     "output_type": "stream",
     "text": [
      "C:\\Users\\npwol\\AppData\\Local\\Temp\\ipykernel_8316\\1370820202.py:1: DtypeWarning: Columns (0,2,4,6,8) have mixed types. Specify dtype option on import or set low_memory=False.\n",
      "  bond_5yr = pd.read_csv(r\"C:\\Users\\npwol\\Gorup-7-Project\\bond_5yr.csv\")\n"
     ]
    },
    {
     "name": "stdout",
     "output_type": "stream",
     "text": [
      "              Date  Close  MIN.YEAR    Year  New.Year    Min    Min.Date  \\\n",
      "0         6/6/2014  1.651  6/6/2014  2014.0  6/6/2014  1.311  10/15/2014   \n",
      "1         6/9/2014  1.681  6/6/2014  2015.0  1/2/2015  1.185    2/2/2015   \n",
      "2        6/10/2014  1.706  6/6/2014  2016.0  1/4/2016  0.938    7/5/2016   \n",
      "3        6/11/2014  1.696  6/6/2014  2017.0  1/3/2017  1.641   7/11/2014   \n",
      "4        6/12/2014  1.660  6/6/2014  2018.0  1/2/2018  2.247    1/3/2018   \n",
      "...            ...    ...       ...     ...       ...    ...         ...   \n",
      "1043372        NaN    NaN       NaN     NaN       NaN    NaN         NaN   \n",
      "1043373        NaN    NaN       NaN     NaN       NaN    NaN         NaN   \n",
      "1043374        NaN    NaN       NaN     NaN       NaN    NaN         NaN   \n",
      "1043375        NaN    NaN       NaN     NaN       NaN    NaN         NaN   \n",
      "1043376        NaN    NaN       NaN     NaN       NaN    NaN         NaN   \n",
      "\n",
      "           Max    Max.Date  Unnamed: 9  Unnamed: 10  Unnamed: 11  \n",
      "0        1.841   9/18/2014         NaN          NaN          NaN  \n",
      "1        1.799  12/30/2015         NaN          NaN          NaN  \n",
      "2        2.068  12/15/2016         NaN          NaN          NaN  \n",
      "3        2.251  12/22/2017         NaN          NaN          NaN  \n",
      "4        3.090   11/8/2018         NaN          NaN          NaN  \n",
      "...        ...         ...         ...          ...          ...  \n",
      "1043372    NaN         NaN         NaN          NaN          NaN  \n",
      "1043373    NaN         NaN         NaN          NaN          NaN  \n",
      "1043374    NaN         NaN         NaN          NaN          NaN  \n",
      "1043375    NaN         NaN         NaN          NaN          NaN  \n",
      "1043376    NaN         NaN         NaN          NaN          NaN  \n",
      "\n",
      "[1043377 rows x 12 columns]\n"
     ]
    }
   ],
   "source": [
    "bond_5yr = pd.read_csv(r\"C:\\Users\\npwol\\Gorup-7-Project\\bond_5yr.csv\")\n",
    "print(bond_5yr)\n"
   ]
  },
  {
   "cell_type": "code",
   "execution_count": null,
   "metadata": {},
   "outputs": [
    {
     "name": "stderr",
     "output_type": "stream",
     "text": [
      "C:\\Users\\npwol\\AppData\\Local\\Temp\\ipykernel_8316\\1090589128.py:5: DtypeWarning: Columns (0,2,4,6,8) have mixed types. Specify dtype option on import or set low_memory=False.\n",
      "  bond_5yr = pd.read_csv(\"bond_5yr.csv\")\n"
     ]
    },
    {
     "ename": "ConversionError",
     "evalue": "Failed to convert value(s) to axis units: [NaT, NaT]",
     "output_type": "error",
     "traceback": [
      "\u001b[1;31m---------------------------------------------------------------------------\u001b[0m",
      "\u001b[1;31mTypeError\u001b[0m                                 Traceback (most recent call last)",
      "File \u001b[1;32mc:\\Users\\npwol\\anaconda3\\envs\\dev\\lib\\site-packages\\matplotlib\\axis.py:1769\u001b[0m, in \u001b[0;36mAxis.convert_units\u001b[1;34m(self, x)\u001b[0m\n\u001b[0;32m   1768\u001b[0m \u001b[38;5;28;01mtry\u001b[39;00m:\n\u001b[1;32m-> 1769\u001b[0m     ret \u001b[38;5;241m=\u001b[39m \u001b[38;5;28;43mself\u001b[39;49m\u001b[38;5;241;43m.\u001b[39;49m\u001b[43mconverter\u001b[49m\u001b[38;5;241;43m.\u001b[39;49m\u001b[43mconvert\u001b[49m\u001b[43m(\u001b[49m\u001b[43mx\u001b[49m\u001b[43m,\u001b[49m\u001b[43m \u001b[49m\u001b[38;5;28;43mself\u001b[39;49m\u001b[38;5;241;43m.\u001b[39;49m\u001b[43munits\u001b[49m\u001b[43m,\u001b[49m\u001b[43m \u001b[49m\u001b[38;5;28;43mself\u001b[39;49m\u001b[43m)\u001b[49m\n\u001b[0;32m   1770\u001b[0m \u001b[38;5;28;01mexcept\u001b[39;00m \u001b[38;5;167;01mException\u001b[39;00m \u001b[38;5;28;01mas\u001b[39;00m e:\n",
      "File \u001b[1;32mc:\\Users\\npwol\\anaconda3\\envs\\dev\\lib\\site-packages\\matplotlib\\dates.py:1888\u001b[0m, in \u001b[0;36m_SwitchableDateConverter.convert\u001b[1;34m(self, *args, **kwargs)\u001b[0m\n\u001b[0;32m   1887\u001b[0m \u001b[38;5;28;01mdef\u001b[39;00m \u001b[38;5;21mconvert\u001b[39m(\u001b[38;5;28mself\u001b[39m, \u001b[38;5;241m*\u001b[39margs, \u001b[38;5;241m*\u001b[39m\u001b[38;5;241m*\u001b[39mkwargs):\n\u001b[1;32m-> 1888\u001b[0m     \u001b[38;5;28;01mreturn\u001b[39;00m \u001b[38;5;28mself\u001b[39m\u001b[38;5;241m.\u001b[39m_get_converter()\u001b[38;5;241m.\u001b[39mconvert(\u001b[38;5;241m*\u001b[39margs, \u001b[38;5;241m*\u001b[39m\u001b[38;5;241m*\u001b[39mkwargs)\n",
      "File \u001b[1;32mc:\\Users\\npwol\\anaconda3\\envs\\dev\\lib\\site-packages\\matplotlib\\dates.py:1816\u001b[0m, in \u001b[0;36mDateConverter.convert\u001b[1;34m(value, unit, axis)\u001b[0m\n\u001b[0;32m   1810\u001b[0m \u001b[38;5;250m\u001b[39m\u001b[38;5;124;03m\"\"\"\u001b[39;00m\n\u001b[0;32m   1811\u001b[0m \u001b[38;5;124;03mIf *value* is not already a number or sequence of numbers, convert it\u001b[39;00m\n\u001b[0;32m   1812\u001b[0m \u001b[38;5;124;03mwith `date2num`.\u001b[39;00m\n\u001b[0;32m   1813\u001b[0m \n\u001b[0;32m   1814\u001b[0m \u001b[38;5;124;03mThe *unit* and *axis* arguments are not used.\u001b[39;00m\n\u001b[0;32m   1815\u001b[0m \u001b[38;5;124;03m\"\"\"\u001b[39;00m\n\u001b[1;32m-> 1816\u001b[0m \u001b[38;5;28;01mreturn\u001b[39;00m \u001b[43mdate2num\u001b[49m\u001b[43m(\u001b[49m\u001b[43mvalue\u001b[49m\u001b[43m)\u001b[49m\n",
      "File \u001b[1;32mc:\\Users\\npwol\\anaconda3\\envs\\dev\\lib\\site-packages\\matplotlib\\dates.py:461\u001b[0m, in \u001b[0;36mdate2num\u001b[1;34m(d)\u001b[0m\n\u001b[0;32m    460\u001b[0m         d \u001b[38;5;241m=\u001b[39m np\u001b[38;5;241m.\u001b[39masarray(d)\n\u001b[1;32m--> 461\u001b[0m     d \u001b[38;5;241m=\u001b[39m \u001b[43md\u001b[49m\u001b[38;5;241;43m.\u001b[39;49m\u001b[43mastype\u001b[49m\u001b[43m(\u001b[49m\u001b[38;5;124;43m'\u001b[39;49m\u001b[38;5;124;43mdatetime64[us]\u001b[39;49m\u001b[38;5;124;43m'\u001b[39;49m\u001b[43m)\u001b[49m\n\u001b[0;32m    463\u001b[0m d \u001b[38;5;241m=\u001b[39m np\u001b[38;5;241m.\u001b[39mma\u001b[38;5;241m.\u001b[39mmasked_array(d, mask\u001b[38;5;241m=\u001b[39mmask) \u001b[38;5;28;01mif\u001b[39;00m masked \u001b[38;5;28;01melse\u001b[39;00m d\n",
      "\u001b[1;31mTypeError\u001b[0m: 'float' object cannot be interpreted as an integer",
      "\nThe above exception was the direct cause of the following exception:\n",
      "\u001b[1;31mConversionError\u001b[0m                           Traceback (most recent call last)",
      "Cell \u001b[1;32mIn[49], line 23\u001b[0m\n\u001b[0;32m     21\u001b[0m \u001b[38;5;66;03m# Adding vertical lines based on 'Min.Date' and 'Max.Date'\u001b[39;00m\n\u001b[0;32m     22\u001b[0m \u001b[38;5;28;01mfor\u001b[39;00m index, row \u001b[38;5;129;01min\u001b[39;00m bond_5yr\u001b[38;5;241m.\u001b[39miterrows():\n\u001b[1;32m---> 23\u001b[0m     \u001b[43mplt\u001b[49m\u001b[38;5;241;43m.\u001b[39;49m\u001b[43maxvline\u001b[49m\u001b[43m(\u001b[49m\u001b[43mx\u001b[49m\u001b[38;5;241;43m=\u001b[39;49m\u001b[43mrow\u001b[49m\u001b[43m[\u001b[49m\u001b[38;5;124;43m'\u001b[39;49m\u001b[38;5;124;43mMin.Date\u001b[39;49m\u001b[38;5;124;43m'\u001b[39;49m\u001b[43m]\u001b[49m\u001b[43m,\u001b[49m\u001b[43m \u001b[49m\u001b[43mcolor\u001b[49m\u001b[38;5;241;43m=\u001b[39;49m\u001b[38;5;124;43m'\u001b[39;49m\u001b[38;5;124;43mred\u001b[39;49m\u001b[38;5;124;43m'\u001b[39;49m\u001b[43m,\u001b[49m\u001b[43m \u001b[49m\u001b[43mlinestyle\u001b[49m\u001b[38;5;241;43m=\u001b[39;49m\u001b[38;5;124;43m'\u001b[39;49m\u001b[38;5;124;43m--\u001b[39;49m\u001b[38;5;124;43m'\u001b[39;49m\u001b[43m,\u001b[49m\u001b[43m \u001b[49m\u001b[43malpha\u001b[49m\u001b[38;5;241;43m=\u001b[39;49m\u001b[38;5;241;43m0.6\u001b[39;49m\u001b[43m)\u001b[49m\n\u001b[0;32m     24\u001b[0m     plt\u001b[38;5;241m.\u001b[39maxvline(x\u001b[38;5;241m=\u001b[39mrow[\u001b[38;5;124m'\u001b[39m\u001b[38;5;124mMax.Date\u001b[39m\u001b[38;5;124m'\u001b[39m], color\u001b[38;5;241m=\u001b[39m\u001b[38;5;124m'\u001b[39m\u001b[38;5;124mgreen\u001b[39m\u001b[38;5;124m'\u001b[39m, linestyle\u001b[38;5;241m=\u001b[39m\u001b[38;5;124m'\u001b[39m\u001b[38;5;124m--\u001b[39m\u001b[38;5;124m'\u001b[39m, alpha\u001b[38;5;241m=\u001b[39m\u001b[38;5;241m0.6\u001b[39m)\n\u001b[0;32m     25\u001b[0m     plt\u001b[38;5;241m.\u001b[39maxvline(x\u001b[38;5;241m=\u001b[39mrow[\u001b[38;5;124m'\u001b[39m\u001b[38;5;124mNew.Year\u001b[39m\u001b[38;5;124m'\u001b[39m], color\u001b[38;5;241m=\u001b[39m\u001b[38;5;124m'\u001b[39m\u001b[38;5;124mblack\u001b[39m\u001b[38;5;124m'\u001b[39m, linestyle\u001b[38;5;241m=\u001b[39m\u001b[38;5;124m'\u001b[39m\u001b[38;5;124m-\u001b[39m\u001b[38;5;124m'\u001b[39m, alpha\u001b[38;5;241m=\u001b[39m\u001b[38;5;241m0.8\u001b[39m)\n",
      "File \u001b[1;32mc:\\Users\\npwol\\anaconda3\\envs\\dev\\lib\\site-packages\\matplotlib\\pyplot.py:2731\u001b[0m, in \u001b[0;36maxvline\u001b[1;34m(x, ymin, ymax, **kwargs)\u001b[0m\n\u001b[0;32m   2729\u001b[0m \u001b[38;5;129m@_copy_docstring_and_deprecators\u001b[39m(Axes\u001b[38;5;241m.\u001b[39maxvline)\n\u001b[0;32m   2730\u001b[0m \u001b[38;5;28;01mdef\u001b[39;00m \u001b[38;5;21maxvline\u001b[39m(x: \u001b[38;5;28mfloat\u001b[39m \u001b[38;5;241m=\u001b[39m \u001b[38;5;241m0\u001b[39m, ymin: \u001b[38;5;28mfloat\u001b[39m \u001b[38;5;241m=\u001b[39m \u001b[38;5;241m0\u001b[39m, ymax: \u001b[38;5;28mfloat\u001b[39m \u001b[38;5;241m=\u001b[39m \u001b[38;5;241m1\u001b[39m, \u001b[38;5;241m*\u001b[39m\u001b[38;5;241m*\u001b[39mkwargs) \u001b[38;5;241m-\u001b[39m\u001b[38;5;241m>\u001b[39m Line2D:\n\u001b[1;32m-> 2731\u001b[0m     \u001b[38;5;28;01mreturn\u001b[39;00m gca()\u001b[38;5;241m.\u001b[39maxvline(x\u001b[38;5;241m=\u001b[39mx, ymin\u001b[38;5;241m=\u001b[39mymin, ymax\u001b[38;5;241m=\u001b[39mymax, \u001b[38;5;241m*\u001b[39m\u001b[38;5;241m*\u001b[39mkwargs)\n",
      "File \u001b[1;32mc:\\Users\\npwol\\anaconda3\\envs\\dev\\lib\\site-packages\\matplotlib\\axes\\_axes.py:856\u001b[0m, in \u001b[0;36mAxes.axvline\u001b[1;34m(self, x, ymin, ymax, **kwargs)\u001b[0m\n\u001b[0;32m    854\u001b[0m trans \u001b[38;5;241m=\u001b[39m \u001b[38;5;28mself\u001b[39m\u001b[38;5;241m.\u001b[39mget_xaxis_transform(which\u001b[38;5;241m=\u001b[39m\u001b[38;5;124m'\u001b[39m\u001b[38;5;124mgrid\u001b[39m\u001b[38;5;124m'\u001b[39m)\n\u001b[0;32m    855\u001b[0m l \u001b[38;5;241m=\u001b[39m mlines\u001b[38;5;241m.\u001b[39mLine2D([x, x], [ymin, ymax], transform\u001b[38;5;241m=\u001b[39mtrans, \u001b[38;5;241m*\u001b[39m\u001b[38;5;241m*\u001b[39mkwargs)\n\u001b[1;32m--> 856\u001b[0m \u001b[38;5;28;43mself\u001b[39;49m\u001b[38;5;241;43m.\u001b[39;49m\u001b[43madd_line\u001b[49m\u001b[43m(\u001b[49m\u001b[43ml\u001b[49m\u001b[43m)\u001b[49m\n\u001b[0;32m    857\u001b[0m \u001b[38;5;28;01mif\u001b[39;00m scalex:\n\u001b[0;32m    858\u001b[0m     \u001b[38;5;28mself\u001b[39m\u001b[38;5;241m.\u001b[39m_request_autoscale_view(\u001b[38;5;124m\"\u001b[39m\u001b[38;5;124mx\u001b[39m\u001b[38;5;124m\"\u001b[39m)\n",
      "File \u001b[1;32mc:\\Users\\npwol\\anaconda3\\envs\\dev\\lib\\site-packages\\matplotlib\\axes\\_base.py:2309\u001b[0m, in \u001b[0;36m_AxesBase.add_line\u001b[1;34m(self, line)\u001b[0m\n\u001b[0;32m   2306\u001b[0m \u001b[38;5;28;01mif\u001b[39;00m line\u001b[38;5;241m.\u001b[39mget_clip_path() \u001b[38;5;129;01mis\u001b[39;00m \u001b[38;5;28;01mNone\u001b[39;00m:\n\u001b[0;32m   2307\u001b[0m     line\u001b[38;5;241m.\u001b[39mset_clip_path(\u001b[38;5;28mself\u001b[39m\u001b[38;5;241m.\u001b[39mpatch)\n\u001b[1;32m-> 2309\u001b[0m \u001b[38;5;28;43mself\u001b[39;49m\u001b[38;5;241;43m.\u001b[39;49m\u001b[43m_update_line_limits\u001b[49m\u001b[43m(\u001b[49m\u001b[43mline\u001b[49m\u001b[43m)\u001b[49m\n\u001b[0;32m   2310\u001b[0m \u001b[38;5;28;01mif\u001b[39;00m \u001b[38;5;129;01mnot\u001b[39;00m line\u001b[38;5;241m.\u001b[39mget_label():\n\u001b[0;32m   2311\u001b[0m     line\u001b[38;5;241m.\u001b[39mset_label(\u001b[38;5;124mf\u001b[39m\u001b[38;5;124m'\u001b[39m\u001b[38;5;124m_child\u001b[39m\u001b[38;5;132;01m{\u001b[39;00m\u001b[38;5;28mlen\u001b[39m(\u001b[38;5;28mself\u001b[39m\u001b[38;5;241m.\u001b[39m_children)\u001b[38;5;132;01m}\u001b[39;00m\u001b[38;5;124m'\u001b[39m)\n",
      "File \u001b[1;32mc:\\Users\\npwol\\anaconda3\\envs\\dev\\lib\\site-packages\\matplotlib\\axes\\_base.py:2332\u001b[0m, in \u001b[0;36m_AxesBase._update_line_limits\u001b[1;34m(self, line)\u001b[0m\n\u001b[0;32m   2328\u001b[0m \u001b[38;5;28;01mdef\u001b[39;00m \u001b[38;5;21m_update_line_limits\u001b[39m(\u001b[38;5;28mself\u001b[39m, line):\n\u001b[0;32m   2329\u001b[0m \u001b[38;5;250m    \u001b[39m\u001b[38;5;124;03m\"\"\"\u001b[39;00m\n\u001b[0;32m   2330\u001b[0m \u001b[38;5;124;03m    Figures out the data limit of the given line, updating self.dataLim.\u001b[39;00m\n\u001b[0;32m   2331\u001b[0m \u001b[38;5;124;03m    \"\"\"\u001b[39;00m\n\u001b[1;32m-> 2332\u001b[0m     path \u001b[38;5;241m=\u001b[39m \u001b[43mline\u001b[49m\u001b[38;5;241;43m.\u001b[39;49m\u001b[43mget_path\u001b[49m\u001b[43m(\u001b[49m\u001b[43m)\u001b[49m\n\u001b[0;32m   2333\u001b[0m     \u001b[38;5;28;01mif\u001b[39;00m path\u001b[38;5;241m.\u001b[39mvertices\u001b[38;5;241m.\u001b[39msize \u001b[38;5;241m==\u001b[39m \u001b[38;5;241m0\u001b[39m:\n\u001b[0;32m   2334\u001b[0m         \u001b[38;5;28;01mreturn\u001b[39;00m\n",
      "File \u001b[1;32mc:\\Users\\npwol\\anaconda3\\envs\\dev\\lib\\site-packages\\matplotlib\\lines.py:1032\u001b[0m, in \u001b[0;36mLine2D.get_path\u001b[1;34m(self)\u001b[0m\n\u001b[0;32m   1030\u001b[0m \u001b[38;5;250m\u001b[39m\u001b[38;5;124;03m\"\"\"Return the `~matplotlib.path.Path` associated with this line.\"\"\"\u001b[39;00m\n\u001b[0;32m   1031\u001b[0m \u001b[38;5;28;01mif\u001b[39;00m \u001b[38;5;28mself\u001b[39m\u001b[38;5;241m.\u001b[39m_invalidy \u001b[38;5;129;01mor\u001b[39;00m \u001b[38;5;28mself\u001b[39m\u001b[38;5;241m.\u001b[39m_invalidx:\n\u001b[1;32m-> 1032\u001b[0m     \u001b[38;5;28;43mself\u001b[39;49m\u001b[38;5;241;43m.\u001b[39;49m\u001b[43mrecache\u001b[49m\u001b[43m(\u001b[49m\u001b[43m)\u001b[49m\n\u001b[0;32m   1033\u001b[0m \u001b[38;5;28;01mreturn\u001b[39;00m \u001b[38;5;28mself\u001b[39m\u001b[38;5;241m.\u001b[39m_path\n",
      "File \u001b[1;32mc:\\Users\\npwol\\anaconda3\\envs\\dev\\lib\\site-packages\\matplotlib\\lines.py:668\u001b[0m, in \u001b[0;36mLine2D.recache\u001b[1;34m(self, always)\u001b[0m\n\u001b[0;32m    666\u001b[0m \u001b[38;5;28;01mdef\u001b[39;00m \u001b[38;5;21mrecache\u001b[39m(\u001b[38;5;28mself\u001b[39m, always\u001b[38;5;241m=\u001b[39m\u001b[38;5;28;01mFalse\u001b[39;00m):\n\u001b[0;32m    667\u001b[0m     \u001b[38;5;28;01mif\u001b[39;00m always \u001b[38;5;129;01mor\u001b[39;00m \u001b[38;5;28mself\u001b[39m\u001b[38;5;241m.\u001b[39m_invalidx:\n\u001b[1;32m--> 668\u001b[0m         xconv \u001b[38;5;241m=\u001b[39m \u001b[38;5;28;43mself\u001b[39;49m\u001b[38;5;241;43m.\u001b[39;49m\u001b[43mconvert_xunits\u001b[49m\u001b[43m(\u001b[49m\u001b[38;5;28;43mself\u001b[39;49m\u001b[38;5;241;43m.\u001b[39;49m\u001b[43m_xorig\u001b[49m\u001b[43m)\u001b[49m\n\u001b[0;32m    669\u001b[0m         x \u001b[38;5;241m=\u001b[39m _to_unmasked_float_array(xconv)\u001b[38;5;241m.\u001b[39mravel()\n\u001b[0;32m    670\u001b[0m     \u001b[38;5;28;01melse\u001b[39;00m:\n",
      "File \u001b[1;32mc:\\Users\\npwol\\anaconda3\\envs\\dev\\lib\\site-packages\\matplotlib\\artist.py:279\u001b[0m, in \u001b[0;36mArtist.convert_xunits\u001b[1;34m(self, x)\u001b[0m\n\u001b[0;32m    277\u001b[0m \u001b[38;5;28;01mif\u001b[39;00m ax \u001b[38;5;129;01mis\u001b[39;00m \u001b[38;5;28;01mNone\u001b[39;00m \u001b[38;5;129;01mor\u001b[39;00m ax\u001b[38;5;241m.\u001b[39mxaxis \u001b[38;5;129;01mis\u001b[39;00m \u001b[38;5;28;01mNone\u001b[39;00m:\n\u001b[0;32m    278\u001b[0m     \u001b[38;5;28;01mreturn\u001b[39;00m x\n\u001b[1;32m--> 279\u001b[0m \u001b[38;5;28;01mreturn\u001b[39;00m \u001b[43max\u001b[49m\u001b[38;5;241;43m.\u001b[39;49m\u001b[43mxaxis\u001b[49m\u001b[38;5;241;43m.\u001b[39;49m\u001b[43mconvert_units\u001b[49m\u001b[43m(\u001b[49m\u001b[43mx\u001b[49m\u001b[43m)\u001b[49m\n",
      "File \u001b[1;32mc:\\Users\\npwol\\anaconda3\\envs\\dev\\lib\\site-packages\\matplotlib\\axis.py:1771\u001b[0m, in \u001b[0;36mAxis.convert_units\u001b[1;34m(self, x)\u001b[0m\n\u001b[0;32m   1769\u001b[0m     ret \u001b[38;5;241m=\u001b[39m \u001b[38;5;28mself\u001b[39m\u001b[38;5;241m.\u001b[39mconverter\u001b[38;5;241m.\u001b[39mconvert(x, \u001b[38;5;28mself\u001b[39m\u001b[38;5;241m.\u001b[39munits, \u001b[38;5;28mself\u001b[39m)\n\u001b[0;32m   1770\u001b[0m \u001b[38;5;28;01mexcept\u001b[39;00m \u001b[38;5;167;01mException\u001b[39;00m \u001b[38;5;28;01mas\u001b[39;00m e:\n\u001b[1;32m-> 1771\u001b[0m     \u001b[38;5;28;01mraise\u001b[39;00m munits\u001b[38;5;241m.\u001b[39mConversionError(\u001b[38;5;124m'\u001b[39m\u001b[38;5;124mFailed to convert value(s) to axis \u001b[39m\u001b[38;5;124m'\u001b[39m\n\u001b[0;32m   1772\u001b[0m                                  \u001b[38;5;124mf\u001b[39m\u001b[38;5;124m'\u001b[39m\u001b[38;5;124munits: \u001b[39m\u001b[38;5;132;01m{\u001b[39;00mx\u001b[38;5;132;01m!r}\u001b[39;00m\u001b[38;5;124m'\u001b[39m) \u001b[38;5;28;01mfrom\u001b[39;00m \u001b[38;5;21;01me\u001b[39;00m\n\u001b[0;32m   1773\u001b[0m \u001b[38;5;28;01mreturn\u001b[39;00m ret\n",
      "\u001b[1;31mConversionError\u001b[0m: Failed to convert value(s) to axis units: [NaT, NaT]"
     ]
    },
    {
     "data": {
      "image/png": "[encoded data removed]",
      "text/plain": [
       "<Figure size 640x480 with 1 Axes>"
      ]
     },
     "metadata": {},
     "output_type": "display_data"
    }
   ],
   "source": [
    "import pandas as pd\n",
    "import matplotlib.pyplot as plt\n",
    "\n",
    "# Read the data\n",
    "bond_5yr = pd.read_csv(\"bond_5yr.csv\")\n",
    "\n",
    "df = iloc[0:2610, :]\n",
    "\n",
    "# Convert columns to datetime\n",
    "bond_5yr['Date'] = pd.to_datetime(bond_5yr.iloc[:, 0], format='%m/%d/%Y')\n",
    "bond_5yr['Min.Date'] = pd.to_datetime(bond_5yr.iloc[:, 6], format='%m/%d/%Y')\n",
    "bond_5yr['Max.Date'] = pd.to_datetime(bond_5yr.iloc[:, 8], format='%m/%d/%Y')\n",
    "bond_5yr['New.Year'] = pd.to_datetime(bond_5yr.iloc[:, 4], format='%m/%d/%Y')\n",
    "\n",
    "# Plotting\n",
    "plt.plot(bond_5yr['Date'], bond_5yr.iloc[:, 1], color='blue', linestyle='-')\n",
    "\n",
    "# Convert dates columns to datetime with error handling\n",
    "bond_5yr['Min.Date'] = pd.to_datetime(bond_5yr['Min.Date'], errors='coerce')\n",
    "bond_5yr['Max.Date'] = pd.to_datetime(bond_5yr['Max.Date'], errors='coerce')\n",
    "bond_5yr['New.Year'] = pd.to_datetime(bond_5yr['New.Year'], errors='coerce')\n",
    "\n",
    "# Adding vertical lines based on 'Min.Date' and 'Max.Date'\n",
    "for index, row in bond_5yr.iterrows():\n",
    "    plt.axvline(x=row['Min.Date'], color='red', linestyle='--', alpha=0.6)\n",
    "    plt.axvline(x=row['Max.Date'], color='green', linestyle='--', alpha=0.6)\n",
    "    plt.axvline(x=row['New.Year'], color='black', linestyle='-', alpha=0.8)\n",
    "\n",
    "# Customize the plot\n",
    "plt.xlabel(\"Date\")\n",
    "plt.ylabel(\"Value\")\n",
    "plt.tight_layout()\n",
    "\n",
    "# Show plot\n",
    "plt.show()\n",
    "\n"
   ]
  },
  {
   "cell_type": "code",
   "execution_count": null,
   "metadata": {},
   "outputs": [
    {
     "name": "stdout",
     "output_type": "stream",
     "text": [
      "For Date 2014-09-18 00:00:00:\n",
      "Min.Date is after Max.Date by 27 days.\n",
      "Value at Min.Date: 1.311\n",
      "Value at Max.Date: 1.841\n",
      "Difference in Value: -0.53\n"
     ]
    }
   ],
   "source": [
    "import pandas as pd\n",
    "\n",
    "\n",
    "# Assuming bond_5yr is your DataFrame loaded from pd.read_csv()\n",
    "\n",
    "\n",
    "# Convert 'Date', 'Min.Date', 'Max.Date', and 'New.Year' columns to datetime objects\n",
    "bond_5yr['Date'] = pd.to_datetime(bond_5yr.iloc[:, 0], format='%m/%d/%Y')\n",
    "bond_5yr['Min.Date'] = pd.to_datetime(bond_5yr.iloc[:, 6], format='%m/%d/%Y')\n",
    "bond_5yr['Max.Date'] = pd.to_datetime(bond_5yr.iloc[:, 8], format='%m/%d/%Y')\n",
    "\n",
    "\n",
    "for index, row in bond_5yr.iterrows():\n",
    "    min_date = row.iloc[6]  # Accessing 'Min.Date' using row.iloc[6]\n",
    "    max_date = row.iloc[8]  # Accessing 'Max.Date' using row.iloc[8]\n",
    "   \n",
    "    # Check if Min.Date and Max.Date belong to the same year\n",
    "    if min_date.year == max_date.year:\n",
    "        # Check if Min.Date falls after Max.Date\n",
    "        if min_date > max_date:\n",
    "            # Calculate the number of days between Min.Date and Max.Date\n",
    "            days_difference = (min_date - max_date).days\n",
    "            print(f\"For Date {row.iloc[8]}:\")\n",
    "            print(f\"Min.Date is after Max.Date by {days_difference} days.\")\n",
    "           \n",
    "            # Get the index of Min.Date and Max.Date\n",
    "            min_date_index = bond_5yr[bond_5yr['Date'] == min_date].index[0]\n",
    "            max_date_index = bond_5yr[bond_5yr['Date'] == max_date].index[0]\n",
    "           \n",
    "            # Get the value at Min.Date and Max.Date\n",
    "            value_at_min_date = bond_5yr.iloc[min_date_index, 1]  # Accessing column bond_5yr.iloc[:, 1] at min_date_index\n",
    "            value_at_max_date = bond_5yr.iloc[max_date_index, 1]  # Accessing column bond_5yr.iloc[:, 1] at max_date_index\n",
    "           \n",
    "            # Calculate the difference in value\n",
    "            value_difference = value_at_min_date - value_at_max_date\n",
    "            print(f\"Value at Min.Date: {value_at_min_date}\")\n",
    "            print(f\"Value at Max.Date: {value_at_max_date}\")\n",
    "            print(f\"Difference in Value: {value_difference}\")\n"
   ]
  }
 ],
 "metadata": {
  "kernelspec": {
   "display_name": "dev",
   "language": "python",
   "name": "python3"
  },
  "language_info": {
   "codemirror_mode": {
    "name": "ipython",
    "version": 3
   },
   "file_extension": ".py",
   "mimetype": "text/x-python",
   "name": "python",
   "nbconvert_exporter": "python",
   "pygments_lexer": "ipython3",
   "version": "3.10.14"
  }
 },
 "nbformat": 4,
 "nbformat_minor": 2
}
